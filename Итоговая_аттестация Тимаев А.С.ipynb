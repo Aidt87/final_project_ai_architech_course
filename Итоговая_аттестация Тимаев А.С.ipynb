{
  "nbformat": 4,
  "nbformat_minor": 0,
  "metadata": {
    "colab": {
      "provenance": [],
      "gpuType": "T4"
    },
    "kernelspec": {
      "name": "python3",
      "display_name": "Python 3"
    },
    "language_info": {
      "name": "python"
    },
    "accelerator": "GPU"
  },
  "cells": [
    {
      "cell_type": "code",
      "source": [
        "# Подключение и импорт библиотек\n",
        "import torch\n",
        "import torch.nn as nn\n",
        "import torch.optim as optim\n",
        "from torchvision import datasets, transforms, models\n",
        "import os\n",
        "from PIL import Image\n",
        "from torchvision import transforms\n",
        "import glob"
      ],
      "metadata": {
        "id": "csmaVytKzqr9"
      },
      "execution_count": 25,
      "outputs": []
    },
    {
      "cell_type": "code",
      "source": [
        "# Получаем датасет из репозитория\n",
        "!git clone https://github.com/Aidt87/final_project_ai_architech_course.git"
      ],
      "metadata": {
        "colab": {
          "base_uri": "https://localhost:8080/"
        },
        "id": "CD91Ky3bDBHA",
        "outputId": "b16df29b-740a-4e60-bcbd-cfeb57cd3ee3"
      },
      "execution_count": 28,
      "outputs": [
        {
          "output_type": "stream",
          "name": "stdout",
          "text": [
            "Cloning into 'final_project_ai_architech_course'...\n",
            "remote: Enumerating objects: 170, done.\u001b[K\n",
            "remote: Counting objects: 100% (170/170), done.\u001b[K\n",
            "remote: Compressing objects: 100% (168/168), done.\u001b[K\n",
            "remote: Total 170 (delta 1), reused 166 (delta 0), pack-reused 0\u001b[K\n",
            "Receiving objects: 100% (170/170), 13.25 MiB | 20.08 MiB/s, done.\n",
            "Resolving deltas: 100% (1/1), done.\n"
          ]
        }
      ]
    },
    {
      "cell_type": "code",
      "source": [
        "# Настройки датасета(при запуске не через Colab, поменять путь к датасету)\n",
        "data_dir = '/content/final_project_ai_architech_course/helmet_dataset'  # Каталог с изображениями\n",
        "batch_size = 50  # Размер пакета данных для обучения"
      ],
      "metadata": {
        "id": "A8ezBLPTMnYU"
      },
      "execution_count": 29,
      "outputs": []
    },
    {
      "cell_type": "code",
      "source": [
        "# Предобработка данных. Подготовка к обучению.\n",
        "data_transforms = {\n",
        "    'train': transforms.Compose([\n",
        "        transforms.RandomResizedCrop(224),  # Случайное изменение размера и обрезка до 224x224 пикселей\n",
        "        transforms.RandomHorizontalFlip(),  # Случайное горизонтальное отражение изображения\n",
        "        transforms.ToTensor(),  # Преобразование в тензор (многомерный массив)\n",
        "    ]),\n",
        "    'val': transforms.Compose([\n",
        "        transforms.Resize(256),  # Изменение размера до 256x256 пикселей\n",
        "        transforms.CenterCrop(224),  # Обрезка до 224x224 пикселей по центру»\n",
        "        transforms.ToTensor(),  # Преобразование в тензор\n",
        "    ]),\n",
        "}\n",
        "\n",
        "# Создание ImageFolder датасета для обучения и валидации с использованием заданных трансформаций\n",
        "image_datasets = {x: datasets.ImageFolder(os.path.join(data_dir, x), data_transforms[x]) for x in ['train', 'val']}\n",
        "\n",
        "# Создание DataLoader для загрузки данных с пакетами, перемешиванием и указанием числа рабочих процессов\n",
        "dataloaders = {x: torch.utils.data.DataLoader(image_datasets[x], batch_size=batch_size, shuffle=True, num_workers=0) for x in ['train', 'val']}\n",
        "\n",
        "# Определение размеров датасетов для обучения и валидации\n",
        "dataset_sizes = {x: len(image_datasets[x]) for x in ['train', 'val']}\n",
        "\n",
        "# Получение списка классов (классификация: helmet, no_helmet)\n",
        "class_names = image_datasets['train'].classes\n",
        "\n",
        "# Загрузка предварительно обученной модели ResNet152\n",
        "model = models.resnet152(pretrained=True)\n",
        "\n",
        "# Получение количества признаков в последнем полносвязном слое\n",
        "num_ftrs = model.fc.in_features\n",
        "\n",
        "# Замена последнего полносвязного слоя на слой с 2 выходами (2 класса: helmet, no_helmet)\n",
        "model.fc = nn.Linear(num_ftrs, 2)\n",
        "\n",
        "# Определение устройства для обучения(GPU или CPU). При отсутствия к видеокарте проводим обучеие на процессоре.\n",
        "device = torch.device(\"cuda:0\" if torch.cuda.is_available() else \"cpu\")\n",
        "\n",
        "# Перемещение модели на выбранное устройство\n",
        "model = model.to(device)\n",
        "\n",
        "# Определение функции потерь (cross-entropy) и оптимизатора (SGD)\n",
        "criterion = nn.CrossEntropyLoss()\n",
        "optimizer = optim.SGD(model.parameters(), lr=0.001, momentum=0.9)"
      ],
      "metadata": {
        "colab": {
          "base_uri": "https://localhost:8080/"
        },
        "id": "nz1gReJqzwWR",
        "outputId": "5fb54285-855a-4598-d87a-9438cf146f1f"
      },
      "execution_count": 30,
      "outputs": [
        {
          "output_type": "stream",
          "name": "stderr",
          "text": [
            "/usr/local/lib/python3.10/dist-packages/torchvision/models/_utils.py:208: UserWarning: The parameter 'pretrained' is deprecated since 0.13 and may be removed in the future, please use 'weights' instead.\n",
            "  warnings.warn(\n",
            "/usr/local/lib/python3.10/dist-packages/torchvision/models/_utils.py:223: UserWarning: Arguments other than a weight enum or `None` for 'weights' are deprecated since 0.13 and may be removed in the future. The current behavior is equivalent to passing `weights=ResNet152_Weights.IMAGENET1K_V1`. You can also use `weights=ResNet152_Weights.DEFAULT` to get the most up-to-date weights.\n",
            "  warnings.warn(msg)\n"
          ]
        }
      ]
    },
    {
      "cell_type": "code",
      "source": [
        "# Обучение модели\n",
        "# Количество эпох\n",
        "num_epochs = 10\n",
        "\n",
        "for epoch in range(num_epochs):\n",
        "    # Тренируем модель\n",
        "    model.train()\n",
        "    running_loss = 0.0\n",
        "\n",
        "    for inputs, labels in dataloaders['train']:\n",
        "        inputs, labels = inputs.to(device), labels.to(device)\n",
        "        # стохастический градиентный спуск для обновления весов модели\n",
        "        optimizer.zero_grad()\n",
        "        outputs = model(inputs)\n",
        "        # принимает предсказанные значения модели и истинные (ожидаемые) значения (метки) и вычисляет, насколько они различаются.\n",
        "        loss = criterion(outputs, labels)\n",
        "        loss.backward()\n",
        "        optimizer.step()\n",
        "        running_loss += loss.item()\n",
        "\n",
        "    print(f\"Epoch {epoch + 1}, Loss: {running_loss / dataset_sizes['train']}\")\n",
        "\n",
        "# Сохраняем модель\n",
        "torch.save(model.state_dict(), 'helmet_classification_model.pth')"
      ],
      "metadata": {
        "colab": {
          "base_uri": "https://localhost:8080/"
        },
        "id": "xhCNVJjm9heb",
        "outputId": "5e12419c-1b34-499b-c5b0-d6b473674c1d"
      },
      "execution_count": 31,
      "outputs": [
        {
          "output_type": "stream",
          "name": "stdout",
          "text": [
            "Epoch 1, Loss: 0.018081421995985097\n",
            "Epoch 2, Loss: 0.0174771249294281\n",
            "Epoch 3, Loss: 0.015343422519749609\n",
            "Epoch 4, Loss: 0.013322754666723054\n",
            "Epoch 5, Loss: 0.011910173656611607\n",
            "Epoch 6, Loss: 0.010409456131787136\n",
            "Epoch 7, Loss: 0.01008207171127714\n",
            "Epoch 8, Loss: 0.007989265538495162\n",
            "Epoch 9, Loss: 0.007632298459266794\n",
            "Epoch 10, Loss: 0.006768465555947402\n"
          ]
        }
      ]
    },
    {
      "cell_type": "code",
      "source": [
        "# Классификация нового изображения\n",
        "\n",
        "# Создаем функцию для классификации изображения\n",
        "def classify_image(image_path):\n",
        "\n",
        "    # Загружаем изображение\n",
        "    image = Image.open(image_path)\n",
        "    #\n",
        "    preprocess = transforms.Compose([\n",
        "        transforms.Resize(256),\n",
        "        transforms.CenterCrop(224),\n",
        "        transforms.ToTensor(),\n",
        "    ])\n",
        "\n",
        "    # Добавление размерности батча (batch dimension)\n",
        "    image = preprocess(image).unsqueeze(0)\n",
        "    image = image.to(device)\n",
        "\n",
        "    model.eval()\n",
        "    with torch.no_grad():\n",
        "        outputs = model(image)\n",
        "        _, predicted = torch.max(outputs, 1)\n",
        "\n",
        "    # Получаем наиболее вероятный резульат\n",
        "    predicted_class = class_names[predicted[0]]\n",
        "    if predicted_class == 'helmet':\n",
        "      predicted_class = \"Есть каска\"\n",
        "    else:\n",
        "      predicted_class = \"Нет каски\"\n",
        "\n",
        "    image_paths = image_path.split('/')\n",
        "    image_name = image_paths[-1]\n",
        "\n",
        "    print(f'Для изображения {image_name} прогнозируемый тип: {predicted_class}')\n",
        "\n",
        "    return class_names[predicted[0]]\n",
        "\n",
        "def classify_images(files, files_class = ''):\n",
        "  all = len(files)\n",
        "  correct = 0.0\n",
        "  for file in files:\n",
        "    # Используем функцию classify_image для классификации новых изображений\n",
        "    predicted_class = classify_image(file)\n",
        "    if files_class == predicted_class:\n",
        "      correct += 1\n",
        "\n",
        "  if files_class != '':\n",
        "    print(f\"Accuracy: {correct/all}\")"
      ],
      "metadata": {
        "id": "k_8QTNvT9n0M"
      },
      "execution_count": 32,
      "outputs": []
    },
    {
      "cell_type": "code",
      "source": [
        "# Проверяем на тестовых файлах\n",
        "validations = glob.glob(os.path.join(data_dir, 'val', 'helmet', '*.*'))\n",
        "classify_images(validations, 'helmet')\n",
        "print()\n",
        "\n",
        "validations = glob.glob(os.path.join(data_dir, 'val', 'no_helmet', '*.*'))\n",
        "classify_images(validations, 'no_helmet')"
      ],
      "metadata": {
        "colab": {
          "base_uri": "https://localhost:8080/"
        },
        "id": "K_NH3QndNK2b",
        "outputId": "9240315d-66d9-4d53-9bcf-cc4346bf5c25"
      },
      "execution_count": 33,
      "outputs": [
        {
          "output_type": "stream",
          "name": "stdout",
          "text": [
            "Для изображения helmet4.jpg прогнозируемый тип: Есть каска\n",
            "Для изображения helmet1.jpg прогнозируемый тип: Есть каска\n",
            "Для изображения helmet3.jpg прогнозируемый тип: Есть каска\n",
            "Для изображения helmet2.jpg прогнозируемый тип: Есть каска\n",
            "Accuracy: 1.0\n",
            "\n",
            "Для изображения no_helmet1.jpg прогнозируемый тип: Нет каски\n",
            "Для изображения no_helmet4.jpg прогнозируемый тип: Нет каски\n",
            "Для изображения no_helmet2.jpg прогнозируемый тип: Есть каска\n",
            "Для изображения no_helmet5.jpg прогнозируемый тип: Нет каски\n",
            "Для изображения no_helmet3.jpg прогнозируемый тип: Нет каски\n",
            "Для изображения no_helmet6.jpg прогнозируемый тип: Нет каски\n",
            "Accuracy: 0.8333333333333334\n"
          ]
        }
      ]
    },
    {
      "cell_type": "code",
      "source": [
        "# Получаем список демонстрационных файлов\n",
        "demonstrations = glob.glob(os.path.join(data_dir, 'demo', '*.*'))\n",
        "classify_images(demonstrations)"
      ],
      "metadata": {
        "colab": {
          "base_uri": "https://localhost:8080/"
        },
        "id": "2T57NG3ENMbS",
        "outputId": "4bc2a5ac-4164-47b5-9b4b-7a02d515d905"
      },
      "execution_count": 34,
      "outputs": [
        {
          "output_type": "stream",
          "name": "stdout",
          "text": [
            "Для изображения no_helmet9.jpg прогнозируемый тип: Нет каски\n",
            "Для изображения helmet5.jpg прогнозируемый тип: Есть каска\n",
            "Для изображения helmet4.jpg прогнозируемый тип: Есть каска\n",
            "Для изображения no_helmet12.jpg прогнозируемый тип: Нет каски\n",
            "Для изображения helmet8.jpg прогнозируемый тип: Есть каска\n",
            "Для изображения helmet1.jpg прогнозируемый тип: Есть каска\n",
            "Для изображения helmet3.jpg прогнозируемый тип: Есть каска\n",
            "Для изображения helmet9.jpg прогнозируемый тип: Есть каска\n",
            "Для изображения no_helmet8.jpg прогнозируемый тип: Нет каски\n",
            "Для изображения no_helmet1.jpg прогнозируемый тип: Нет каски\n",
            "Для изображения no_helmet7.jpg прогнозируемый тип: Нет каски\n",
            "Для изображения no_helmet4.jpg прогнозируемый тип: Нет каски\n",
            "Для изображения helmet7.jpg прогнозируемый тип: Есть каска\n",
            "Для изображения helmet11.jpg прогнозируемый тип: Есть каска\n",
            "Для изображения no_helmet2.jpg прогнозируемый тип: Нет каски\n",
            "Для изображения no_helmet5.jpg прогнозируемый тип: Нет каски\n",
            "Для изображения no_helmet13.jpg прогнозируемый тип: Нет каски\n",
            "Для изображения helmet13.jpg прогнозируемый тип: Есть каска\n",
            "Для изображения no_helmet3.jpg прогнозируемый тип: Есть каска\n",
            "Для изображения helmet14.jpg прогнозируемый тип: Есть каска\n",
            "Для изображения helmet6.jpg прогнозируемый тип: Есть каска\n",
            "Для изображения no_helmet6.jpg прогнозируемый тип: Нет каски\n",
            "Для изображения no_helmet11.jpg прогнозируемый тип: Нет каски\n",
            "Для изображения no_helmet10.jpg прогнозируемый тип: Нет каски\n",
            "Для изображения helmet2.jpg прогнозируемый тип: Есть каска\n",
            "Для изображения helmet10.jpg прогнозируемый тип: Есть каска\n"
          ]
        }
      ]
    }
  ]
}